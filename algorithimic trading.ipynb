{
 "cells": [
  {
   "cell_type": "code",
   "execution_count": 5,
   "metadata": {
    "collapsed": true
   },
   "outputs": [],
   "source": [
    "import numpy as np\n",
    "\n",
    "\n",
    "def calcSma(data, smaPeriod):\n",
    "    j = next(i for i, x in enumerate(data) if x is not None)\n",
    "    our_range = range(len(data))[j + smaPeriod - 1:]\n",
    "    empty_list = [None] * (j + smaPeriod - 1)\n",
    "    sub_result = [np.mean(data[i - smaPeriod + 1: i + 1]) for i in our_range]\n",
    "\n",
    "    return np.array(empty_list + sub_result)"
   ]
  },
  {
   "cell_type": "code",
   "execution_count": null,
   "metadata": {
    "collapsed": true
   },
   "outputs": [],
   "source": [
    "#get csv file"
   ]
  },
  {
   "cell_type": "code",
   "execution_count": null,
   "metadata": {
    "collapsed": true
   },
   "outputs": [],
   "source": []
  },
  {
   "cell_type": "code",
   "execution_count": null,
   "metadata": {
    "collapsed": true
   },
   "outputs": [],
   "source": [
    "data=\n",
    "sma = calcSma(data=data, smaPeriod=20)\n",
    "sma2 = calcSma(data=sma, smaPeriod=10)\n",
    "plt.plot(data)\n",
    "plt.plot(sma)\n",
    "plt.plot(sma2)\n",
    "plt.show()"
   ]
  }
 ],
 "metadata": {
  "kernelspec": {
   "display_name": "Python 3",
   "language": "python",
   "name": "python3"
  },
  "language_info": {
   "codemirror_mode": {
    "name": "ipython",
    "version": 3
   },
   "file_extension": ".py",
   "mimetype": "text/x-python",
   "name": "python",
   "nbconvert_exporter": "python",
   "pygments_lexer": "ipython3",
   "version": "3.6.1"
  }
 },
 "nbformat": 4,
 "nbformat_minor": 2
}
