{
 "cells": [
  {
   "cell_type": "code",
   "execution_count": 5,
   "metadata": {},
   "outputs": [
    {
     "name": "stdout",
     "output_type": "stream",
     "text": [
      "Random forest --- 1265438872.49 0.827627373226\n",
      "Gradient Boosting  --- 1309002555.53 0.821693316165\n",
      "XG Boosting  --- 1449110074.4 0.802608474072\n",
      "Linear  --- 1775176454.98 0.758193117674\n"
     ]
    }
   ],
   "source": [
    "import pandas as pd\n",
    "import numpy as np\n",
    "import pandas as pd\n",
    "import numpy as np\n",
    "df=pd.read_csv('train.csv')\n",
    "df1=pd.read_csv('test.csv')\n",
    "\n",
    "#Missing values\n",
    "del df['Id']\n",
    "for c in df.columns:\n",
    "    if df[c].dtypes=='int64' or  df[c].dtypes=='float64':\n",
    "       df[c]=df[c].fillna(df[c].mean())\n",
    "    else:\n",
    "        \n",
    "       df[c]=df[c].fillna(df[c].mode())\n",
    "Ids=df1['Id']\n",
    "del df1['Id']\n",
    "\n",
    "for c in df1.columns:\n",
    "    if df1[c].dtypes=='int64' or  df1[c].dtypes=='float64':\n",
    "       df1[c]=df1[c].fillna(df1[c].mean())\n",
    "    else:\n",
    "        \n",
    "       df1[c]=df1[c].fillna(df1[c].mode())\n",
    "l2=[]\n",
    "for c in df1.columns:\n",
    "    if len(df1[df1[c].isnull()==True][c])>0 :\n",
    "        l2.append(c)\n",
    "        \n",
    "l1=[]\n",
    "for c in df.columns:\n",
    "    if len(df[df[c].isnull()==True][c])>0:\n",
    "        l1.append(c)\n",
    "        \n",
    "l3=list(set(l1).union(set(l2)))\n",
    "l3\n",
    "\n",
    "\n",
    "for c in df.columns:\n",
    "    if c in l3 :\n",
    "        #print(c)\n",
    "        del df[c]\n",
    "for c in df1.columns:\n",
    "    if c in l3 :\n",
    "        #print(c)\n",
    "        del df1[c]\n",
    "#encoding\n",
    "from sklearn import preprocessing\n",
    "y=df['SalePrice']   \n",
    "del df['SalePrice']\n",
    "\n",
    "\n",
    "for c in df.columns:\n",
    "    le=preprocessing.LabelEncoder().fit(df[c])\n",
    "    df[c] =le.transform(df[c])\n",
    "x=df\n",
    "\n",
    "\n",
    "#split \n",
    "#x_train=df[:900]\n",
    "#y_train=y[:900]\n",
    "#x_test=df[900:]\n",
    "#ytest=y[900:]\n",
    "\n",
    "#Xtrain=x_train\n",
    "#pd.concat([x_train,x_train,x_train,x_train,x_train,x_train,x_train,x_train,x_train,x_train])\n",
    "#ytrain=y_train\n",
    "#pd.concat([y_train,y_train,y_train,y_train,y_train,y_train,y_train,y_train,y_train,y_train])\n",
    "#Scaling\n",
    "from sklearn.preprocessing import StandardScaler,Normalizer\n",
    "scl=StandardScaler()\n",
    "\n",
    "x=scl.fit_transform(x)\n",
    "\n",
    "\n",
    "\n",
    "\n",
    "\n",
    "#dimension\n",
    "#for i in range(1,64):\n",
    "p=PCA(n_components=10\n",
    "      , copy=True, whiten=False, svd_solver='auto', tol=0.0, iterated_power='auto', random_state=None)\n",
    "x11=p.fit(x).transform(x)\n",
    "#train test split\n",
    "from sklearn.cross_validation import train_test_split\n",
    "Xtrain, Xtest, ytrain, ytest = train_test_split(x11, y,test_size=0.33)\n",
    "\n",
    "Compare(Xtrain, Xtest, ytrain, ytest)   \n",
    "#x.shape\n"
   ]
  },
  {
   "cell_type": "code",
   "execution_count": 4,
   "metadata": {},
   "outputs": [],
   "source": [
    "def Compare(Xtrain, Xtest, ytrain, ytest):\n",
    "\n",
    "    #Random forest\n",
    " from sklearn.ensemble import RandomForestRegressor\n",
    " rf=RandomForestRegressor(n_estimators=100, criterion='mse', max_depth=None, min_samples_split=2, min_samples_leaf=1,\n",
    "                         \n",
    "                         min_weight_fraction_leaf=0.0, max_features='auto', max_leaf_nodes=None, min_impurity_decrease=0.0, min_impurity_split=None,\n",
    "                         bootstrap=True, oob_score=False, n_jobs=2, random_state=None, verbose=0, warm_start=False)\n",
    "\n",
    " rf.fit(Xtrain,ytrain)\n",
    " y_pred=rf.predict(Xtest)\n",
    " y_pred\n",
    " from sklearn.metrics import mean_squared_error,r2_score\n",
    " mse=mean_squared_error(ytest,y_pred)\n",
    " print(\"Random forest\",\"---\",mse,r2_score(ytest,y_pred))\n",
    "\n",
    " #Gradient\n",
    " from sklearn.ensemble import GradientBoostingRegressor\n",
    " reg=GradientBoostingRegressor(loss='ls', learning_rate=0.2, n_estimators=100, subsample=1.0,\n",
    "                              criterion='friedman_mse', min_samples_split=2, min_samples_leaf=1, min_weight_fraction_leaf=0.0, max_depth=3,\n",
    "                              min_impurity_decrease=0.0, min_impurity_split=None, init=None, random_state=None, max_features=None, \n",
    "                              alpha=0.1,\n",
    "                              verbose=0, max_leaf_nodes=None, warm_start=False, presort='auto')\n",
    " reg.fit(Xtrain,ytrain)\n",
    " y_pred=reg.predict(Xtest)\n",
    " y_pred\n",
    " from sklearn.metrics import mean_squared_error,r2_score\n",
    " mse=mean_squared_error(ytest,y_pred)\n",
    "\n",
    " print(\"Gradient Boosting \",\"---\",mse,r2_score(ytest,y_pred))\n",
    "\n",
    " #XGBOOSt\n",
    " import xgboost\n",
    " # Let's try XGboost algorithm to see if we can get better results\n",
    " xgb = xgboost.XGBRegressor(max_depth=4, learning_rate=0.1, n_estimators=100, silent=True, objective='reg:linear', nthread=-1, gamma=0, \n",
    "                           \n",
    "                           min_child_weight=1,\n",
    "                           max_delta_step=0, subsample=1,\n",
    "                           colsample_bytree=1, colsample_bylevel=1, reg_alpha=0, reg_lambda=1, scale_pos_weight=1, \n",
    "                           base_score=0.5, seed=0, missing=None)\n",
    " xgb.fit(Xtrain,ytrain)\n",
    " y_pred=xgb.predict(Xtest)\n",
    " y_pred\n",
    " from sklearn.metrics import mean_squared_error,r2_score\n",
    " mse=mean_squared_error(ytest,y_pred)\n",
    " print(\"XG Boosting \",\"---\",mse,r2_score(ytest,y_pred))\n",
    "\n",
    "\n",
    " #linear regression\n",
    " from sklearn.linear_model import LinearRegression\n",
    " reg=LinearRegression(fit_intercept=True, normalize=False, copy_X=True, n_jobs=1)\n",
    " reg.fit(Xtrain,ytrain)\n",
    " y_pred=reg.predict(Xtest)\n",
    "\n",
    " from sklearn.metrics import mean_squared_error,r2_score\n",
    " mse=mean_squared_error(ytest,y_pred)\n",
    " print(\"Linear \",\"---\",mse,r2_score(ytest,y_pred))"
   ]
  },
  {
   "cell_type": "code",
   "execution_count": 2,
   "metadata": {},
   "outputs": [
    {
     "data": {
      "text/plain": [
       "PCA(copy=True, iterated_power='auto', n_components=55, random_state=None,\n",
       "  svd_solver='auto', tol=0.0, whiten=False)"
      ]
     },
     "execution_count": 2,
     "metadata": {},
     "output_type": "execute_result"
    }
   ],
   "source": [
    "from sklearn.decomposition import PCA\n",
    "p=PCA(n_components=df.shape[1]-1, copy=True, whiten=False, svd_solver='auto', tol=0.0, iterated_power='auto', random_state=None)\n",
    "p.fit(x)"
   ]
  },
  {
   "cell_type": "code",
   "execution_count": 110,
   "metadata": {},
   "outputs": [
    {
     "data": {
      "text/plain": [
       "array([ 8.8,  3.6,  3.4,  2.4,  2.1,  1.5,  1.5,  1.5,  1.3,  1.2,  1.2,\n",
       "        1.2,  1.2,  1.1,  1.1,  1.1,  1.1,  1. ,  1. ,  1. ,  0.9,  0.9,\n",
       "        0.9,  0.9,  0.9,  0.8,  0.8,  0.8,  0.8,  0.7,  0.7,  0.7,  0.6,\n",
       "        0.6,  0.6,  0.6,  0.6,  0.5,  0.5,  0.5,  0.4,  0.4,  0.4,  0.3,\n",
       "        0.3,  0.3,  0.3,  0.2,  0.2,  0.2,  0.1,  0.1,  0.1,  0.1,  0. ])"
      ]
     },
     "execution_count": 110,
     "metadata": {},
     "output_type": "execute_result"
    }
   ],
   "source": [
    "v=p.explained_variance_\n",
    "v=np.round(v,1)\n",
    "v"
   ]
  },
  {
   "cell_type": "code",
   "execution_count": 111,
   "metadata": {},
   "outputs": [],
   "source": [
    "import matplotlib.pyplot as mlt"
   ]
  },
  {
   "cell_type": "code",
   "execution_count": 112,
   "metadata": {},
   "outputs": [
    {
     "data": {
      "text/plain": [
       "[<matplotlib.lines.Line2D at 0x242d9501d68>]"
      ]
     },
     "execution_count": 112,
     "metadata": {},
     "output_type": "execute_result"
    },
    {
     "data": {
      "image/png": "[encoded data removed]",
      "text/plain": [
       "<matplotlib.figure.Figure at 0x242d9451ba8>"
      ]
     },
     "metadata": {},
     "output_type": "display_data"
    }
   ],
   "source": [
    "mlt.plot(v)"
   ]
  },
  {
   "cell_type": "code",
   "execution_count": 98,
   "metadata": {},
   "outputs": [
    {
     "data": {
      "text/plain": [
       "(1460, 65)"
      ]
     },
     "execution_count": 98,
     "metadata": {},
     "output_type": "execute_result"
    }
   ],
   "source": [
    "df.shape"
   ]
  },
  {
   "cell_type": "code",
   "execution_count": null,
   "metadata": {},
   "outputs": [],
   "source": [
    "#Random forest"
   ]
  },
  {
   "cell_type": "code",
   "execution_count": 163,
   "metadata": {},
   "outputs": [
    {
     "name": "stdout",
     "output_type": "stream",
     "text": [
      "1102460997.06 0.845096919092\n"
     ]
    }
   ],
   "source": [
    "from sklearn.ensemble import RandomForestRegressor\n",
    "\n",
    "    \n",
    "rf=RandomForestRegressor(n_estimators=100, criterion='mse', max_depth=None, min_samples_split=2, min_samples_leaf=1,\n",
    "                         \n",
    "                         min_weight_fraction_leaf=0.0, max_features='auto', max_leaf_nodes=None, min_impurity_decrease=0.0, min_impurity_split=None,\n",
    "                         bootstrap=True, oob_score=False, n_jobs=2, random_state=None, verbose=0, warm_start=False)\n",
    "\n",
    "rf.fit(Xtrain,ytrain)\n",
    "y_pred=rf.predict(Xtest)\n",
    "y_pred\n",
    "from sklearn.metrics import mean_squared_error,r2_score\n",
    "mse=mean_squared_error(ytest,y_pred)\n",
    "print(mse,r2_score(ytest,y_pred))"
   ]
  },
  {
   "cell_type": "code",
   "execution_count": null,
   "metadata": {},
   "outputs": [],
   "source": [
    "#gradient\n"
   ]
  },
  {
   "cell_type": "code",
   "execution_count": 166,
   "metadata": {},
   "outputs": [
    {
     "name": "stdout",
     "output_type": "stream",
     "text": [
      "1311151460.34 0.815774525098 9\n"
     ]
    },
    {
     "data": {
      "text/plain": [
       "GradientBoostingRegressor(alpha=0.1, criterion='friedman_mse', init=None,\n",
       "             learning_rate=0.09, loss='ls', max_depth=3, max_features=None,\n",
       "             max_leaf_nodes=2, min_impurity_decrease=0.0,\n",
       "             min_impurity_split=None, min_samples_leaf=1,\n",
       "             min_samples_split=2, min_weight_fraction_leaf=0.0,\n",
       "             n_estimators=100, presort='auto', random_state=None,\n",
       "             subsample=1.0, verbose=0, warm_start=False)"
      ]
     },
     "execution_count": 166,
     "metadata": {},
     "output_type": "execute_result"
    }
   ],
   "source": [
    "from sklearn.ensemble import GradientBoostingRegressor\n",
    "mse=100000000000000000\n",
    "r2=-111111111\n",
    "for i in range(1 , 10):\n",
    " ba=GradientBoostingRegressor(loss='ls', learning_rate=i/100\n",
    "                             , n_estimators=100, subsample=1.0,\n",
    "                              criterion='friedman_mse', min_samples_split=2, min_samples_leaf=1, min_weight_fraction_leaf=0.0, max_depth=3,\n",
    "                              min_impurity_decrease=0.0, min_impurity_split=None, init=None, random_state=None, max_features=None, \n",
    "                              alpha=0.1,\n",
    "                              verbose=0, max_leaf_nodes=2, warm_start=False, presort='auto')\n",
    " ba.fit(Xtrain,ytrain)\n",
    " y_pred=ba.predict(Xtest)\n",
    " \n",
    " from sklearn.metrics import mean_squared_error,r2_score\n",
    " if mean_squared_error(ytest,y_pred)<mse :\n",
    "          mse=mean_squared_error(ytest,y_pred)\n",
    "          v=i\n",
    "          r2=r2_score(ytest,y_pred)\n",
    "       \n",
    "\n",
    "  #if r2_score(ytest,y_pred)>.88:\n",
    "    \n",
    "print(mse,r2,v)\n",
    "ba=GradientBoostingRegressor(loss='ls', learning_rate=9/100\n",
    "                             , n_estimators=100, subsample=1.0,\n",
    "                              criterion='friedman_mse', min_samples_split=2, min_samples_leaf=1, min_weight_fraction_leaf=0.0, max_depth=3,\n",
    "                              min_impurity_decrease=0.0, min_impurity_split=None, init=None, random_state=None, max_features=None, \n",
    "                              alpha=0.1,\n",
    "                              verbose=0, max_leaf_nodes=2, warm_start=False, presort='auto')\n",
    "ba.fit(Xtrain,ytrain)\n",
    "\n"
   ]
  },
  {
   "cell_type": "code",
   "execution_count": null,
   "metadata": {},
   "outputs": [],
   "source": [
    "#xgboost"
   ]
  },
  {
   "cell_type": "code",
   "execution_count": 176,
   "metadata": {},
   "outputs": [
    {
     "name": "stdout",
     "output_type": "stream",
     "text": [
      "1129745672.3 0.841263241286 3\n"
     ]
    },
    {
     "data": {
      "text/plain": [
       "XGBRegressor(base_score=0.1, colsample_bylevel=1, colsample_bytree=1, gamma=0,\n",
       "       learning_rate=0.14, max_delta_step=0, max_depth=9,\n",
       "       min_child_weight=1, missing=None, n_estimators=1000, nthread=-1,\n",
       "       objective='reg:linear', reg_alpha=0, reg_lambda=1,\n",
       "       scale_pos_weight=1, seed=0, silent=True, subsample=1)"
      ]
     },
     "execution_count": 176,
     "metadata": {},
     "output_type": "execute_result"
    }
   ],
   "source": [
    "from sklearn.decomposition import PCA\n",
    "from sklearn.metrics import mean_squared_error,r2_score\n",
    "mse=10000000000000\n",
    "r2=-1000\n",
    "import xgboost\n",
    "for k in range(1,5):\n",
    "   \n",
    "    # Let's try XGboost algorithm to see if we can get better results\n",
    "       xgb = xgboost.XGBRegressor(max_depth=max_depth, learning_rate=k/100\n",
    "                             , n_estimators=1499, silent=True, objective='reg:linear', nthread=1, gamma=0, \n",
    "                           \n",
    "                           min_child_weight=1,\n",
    "                           max_delta_step=0, subsample=1,\n",
    "                           colsample_bytree=1, colsample_bylevel=1, reg_alpha=0, reg_lambda=2, scale_pos_weight=2, \n",
    "                           base_score=0.1, seed=0, missing=None)\n",
    "       xgb.fit(Xtrain,ytrain)\n",
    "       y_pred=xgb.predict(Xtest)\n",
    "    \n",
    "       if mean_squared_error(ytest,y_pred)<mse :\n",
    "          mse=mean_squared_error(ytest,y_pred)\n",
    "          v=k\n",
    "          r2=r2_score(ytest,y_pred)\n",
    "       \n",
    "\n",
    "  #if r2_score(ytest,y_pred)>.88:\n",
    "    \n",
    "print(mse,r2,v)\n",
    "xgb = xgboost.XGBRegressor(max_depth=max_depth, learning_rate=14/100\n",
    "                             , n_estimators=1000, silent=True, objective='reg:linear', nthread=-1, gamma=0, \n",
    "                           \n",
    "                           min_child_weight=1,\n",
    "                           max_delta_step=0, subsample=1,\n",
    "                           colsample_bytree=1, colsample_bylevel=1, reg_alpha=0, reg_lambda=1, scale_pos_weight=1, \n",
    "                           base_score=0.1, seed=0, missing=None)\n",
    "xgb.fit(Xtrain,ytrain)"
   ]
  },
  {
   "cell_type": "code",
   "execution_count": 800,
   "metadata": {},
   "outputs": [
    {
     "name": "stdout",
     "output_type": "stream",
     "text": [
      "1352646646.5 0.786217437179\n"
     ]
    }
   ],
   "source": [
    "#linear regression\n",
    "from sklearn.cross_validation import train_test_split\n",
    "Xtrain, Xtest, ytrain, ytest = train_test_split(x, y,test_size=0.33)\n",
    "from sklearn.linear_model import LinearRegression\n",
    "reg=LinearRegression(fit_intercept=True, normalize=False, copy_X=True, n_jobs=1)\n",
    "reg.fit(Xtrain,ytrain)\n",
    "y_pred=reg.predict(Xtest)\n",
    "\n",
    "from sklearn.metrics import mean_squared_error,r2_score\n",
    "mse=mean_squared_error(ytest,y_pred)\n",
    "print(mse,r2_score(ytest,y_pred))"
   ]
  },
  {
   "cell_type": "code",
   "execution_count": 6,
   "metadata": {},
   "outputs": [
    {
     "name": "stdout",
     "output_type": "stream",
     "text": [
      "7801609688.55 -0.0627016320688\n"
     ]
    }
   ],
   "source": [
    "from sklearn.svm import SVR\n",
    "svr=SVR(kernel='rbf', degree=3, gamma='auto', coef0=0.0, tol=0.001, C=1.0, epsilon=0.1, shrinking=True, cache_size=200, \n",
    "        verbose=False, max_iter=-1)\n",
    "svr.fit(Xtrain,ytrain)\n",
    "y_pred=svr.predict(Xtest)\n",
    "\n",
    "from sklearn.metrics import mean_squared_error,r2_score\n",
    "mse=mean_squared_error(ytest,y_pred)\n",
    "print(mse,r2_score(ytest,y_pred))"
   ]
  },
  {
   "cell_type": "code",
   "execution_count": 8,
   "metadata": {},
   "outputs": [
    {
     "name": "stdout",
     "output_type": "stream",
     "text": [
      "41098161763.9 -4.5982143846\n"
     ]
    },
    {
     "name": "stderr",
     "output_type": "stream",
     "text": [
      "C:\\Anaconda\\lib\\site-packages\\sklearn\\neural_network\\multilayer_perceptron.py:564: ConvergenceWarning: Stochastic Optimizer: Maximum iterations (200) reached and the optimization hasn't converged yet.\n",
      "  % self.max_iter, ConvergenceWarning)\n"
     ]
    }
   ],
   "source": [
    "from sklearn.neural_network import MLPRegressor\n",
    "mlp=MLPRegressor(hidden_layer_sizes=(100 ), activation='relu', solver='adam', alpha=0.0001, batch_size='auto', \n",
    "                 learning_rate='constant', learning_rate_init=0.001, power_t=0.5, max_iter=200, shuffle=True, \n",
    "                 random_state=None, tol=0.0001, verbose=False, warm_start=False, momentum=0.9, nesterovs_momentum=True, \n",
    "                 early_stopping=False, validation_fraction=0.1, beta_1=0.9, beta_2=0.999, epsilon=1e-08)\n",
    "\n",
    "\n",
    "mlp.fit(Xtrain,ytrain)\n",
    "y_pred=mlp.predict(Xtest)\n",
    "\n",
    "from sklearn.metrics import mean_squared_error,r2_score\n",
    "mse=mean_squared_error(ytest,y_pred)\n",
    "print(mse,r2_score(ytest,y_pred))\n"
   ]
  },
  {
   "cell_type": "code",
   "execution_count": 158,
   "metadata": {},
   "outputs": [
    {
     "data": {
      "text/plain": [
       "array([ 100966.6015625,  155054.15625  ,  171634.28125  , ...,\n",
       "        181884.96875  ,  123803.453125 ,  215153.296875 ], dtype=float32)"
      ]
     },
     "execution_count": 158,
     "metadata": {},
     "output_type": "execute_result"
    }
   ],
   "source": [
    "\n",
    "\n",
    "\n",
    "\n",
    "#encoding\n",
    "from sklearn import preprocessing\n",
    "\n",
    "for c in df1.columns:\n",
    "    le=preprocessing.LabelEncoder().fit(df1[c])\n",
    "    df1[c] =le.transform(df1[c])\n",
    "\n",
    "x1=df1.loc[0:]\n",
    "\n",
    "\n",
    "#Scaling\n",
    "from sklearn.preprocessing import StandardScaler,Normalizer\n",
    "scl=StandardScaler()\n",
    "\n",
    "x1=scl.fit_transform(x1)\n",
    "p=PCA(n_components= 1,copy=True, whiten=False, svd_solver='auto', tol=0.0, iterated_power='auto', random_state=None)\n",
    "x_test=p.fit(x1).transform(x1)\n",
    "\n",
    "y_pred=xgb.predict(x_test)\n",
    "y_pred\n"
   ]
  },
  {
   "cell_type": "code",
   "execution_count": null,
   "metadata": {},
   "outputs": [],
   "source": []
  },
  {
   "cell_type": "code",
   "execution_count": 623,
   "metadata": {},
   "outputs": [
    {
     "data": {
      "text/html": [
       "<div>\n",
       "<style>\n",
       "    .dataframe thead tr:only-child th {\n",
       "        text-align: right;\n",
       "    }\n",
       "\n",
       "    .dataframe thead th {\n",
       "        text-align: left;\n",
       "    }\n",
       "\n",
       "    .dataframe tbody tr th {\n",
       "        vertical-align: top;\n",
       "    }\n",
       "</style>\n",
       "<table border=\"1\" class=\"dataframe\">\n",
       "  <thead>\n",
       "    <tr style=\"text-align: right;\">\n",
       "      <th></th>\n",
       "      <th>MSSubClass</th>\n",
       "      <th>LotFrontage</th>\n",
       "      <th>LotArea</th>\n",
       "      <th>Street</th>\n",
       "      <th>LotShape</th>\n",
       "      <th>LandContour</th>\n",
       "      <th>LotConfig</th>\n",
       "      <th>LandSlope</th>\n",
       "      <th>Neighborhood</th>\n",
       "      <th>Condition1</th>\n",
       "      <th>...</th>\n",
       "      <th>WoodDeckSF</th>\n",
       "      <th>OpenPorchSF</th>\n",
       "      <th>EnclosedPorch</th>\n",
       "      <th>3SsnPorch</th>\n",
       "      <th>ScreenPorch</th>\n",
       "      <th>PoolArea</th>\n",
       "      <th>MiscVal</th>\n",
       "      <th>MoSold</th>\n",
       "      <th>YrSold</th>\n",
       "      <th>SaleCondition</th>\n",
       "    </tr>\n",
       "  </thead>\n",
       "  <tbody>\n",
       "    <tr>\n",
       "      <th>0</th>\n",
       "      <td>0</td>\n",
       "      <td>57</td>\n",
       "      <td>777</td>\n",
       "      <td>1</td>\n",
       "      <td>3</td>\n",
       "      <td>3</td>\n",
       "      <td>4</td>\n",
       "      <td>0</td>\n",
       "      <td>12</td>\n",
       "      <td>1</td>\n",
       "      <td>...</td>\n",
       "      <td>75</td>\n",
       "      <td>0</td>\n",
       "      <td>0</td>\n",
       "      <td>0</td>\n",
       "      <td>18</td>\n",
       "      <td>0</td>\n",
       "      <td>0</td>\n",
       "      <td>5</td>\n",
       "      <td>4</td>\n",
       "      <td>4</td>\n",
       "    </tr>\n",
       "    <tr>\n",
       "      <th>1</th>\n",
       "      <td>0</td>\n",
       "      <td>58</td>\n",
       "      <td>964</td>\n",
       "      <td>1</td>\n",
       "      <td>0</td>\n",
       "      <td>3</td>\n",
       "      <td>0</td>\n",
       "      <td>0</td>\n",
       "      <td>12</td>\n",
       "      <td>2</td>\n",
       "      <td>...</td>\n",
       "      <td>225</td>\n",
       "      <td>24</td>\n",
       "      <td>0</td>\n",
       "      <td>0</td>\n",
       "      <td>0</td>\n",
       "      <td>0</td>\n",
       "      <td>24</td>\n",
       "      <td>5</td>\n",
       "      <td>4</td>\n",
       "      <td>4</td>\n",
       "    </tr>\n",
       "    <tr>\n",
       "      <th>2</th>\n",
       "      <td>5</td>\n",
       "      <td>51</td>\n",
       "      <td>947</td>\n",
       "      <td>1</td>\n",
       "      <td>0</td>\n",
       "      <td>3</td>\n",
       "      <td>4</td>\n",
       "      <td>0</td>\n",
       "      <td>8</td>\n",
       "      <td>2</td>\n",
       "      <td>...</td>\n",
       "      <td>134</td>\n",
       "      <td>22</td>\n",
       "      <td>0</td>\n",
       "      <td>0</td>\n",
       "      <td>0</td>\n",
       "      <td>0</td>\n",
       "      <td>0</td>\n",
       "      <td>2</td>\n",
       "      <td>4</td>\n",
       "      <td>4</td>\n",
       "    </tr>\n",
       "    <tr>\n",
       "      <th>3</th>\n",
       "      <td>5</td>\n",
       "      <td>55</td>\n",
       "      <td>587</td>\n",
       "      <td>1</td>\n",
       "      <td>0</td>\n",
       "      <td>3</td>\n",
       "      <td>4</td>\n",
       "      <td>0</td>\n",
       "      <td>8</td>\n",
       "      <td>2</td>\n",
       "      <td>...</td>\n",
       "      <td>219</td>\n",
       "      <td>24</td>\n",
       "      <td>0</td>\n",
       "      <td>0</td>\n",
       "      <td>0</td>\n",
       "      <td>0</td>\n",
       "      <td>0</td>\n",
       "      <td>5</td>\n",
       "      <td>4</td>\n",
       "      <td>4</td>\n",
       "    </tr>\n",
       "    <tr>\n",
       "      <th>4</th>\n",
       "      <td>11</td>\n",
       "      <td>19</td>\n",
       "      <td>118</td>\n",
       "      <td>1</td>\n",
       "      <td>0</td>\n",
       "      <td>1</td>\n",
       "      <td>4</td>\n",
       "      <td>0</td>\n",
       "      <td>22</td>\n",
       "      <td>2</td>\n",
       "      <td>...</td>\n",
       "      <td>0</td>\n",
       "      <td>68</td>\n",
       "      <td>0</td>\n",
       "      <td>0</td>\n",
       "      <td>27</td>\n",
       "      <td>0</td>\n",
       "      <td>0</td>\n",
       "      <td>0</td>\n",
       "      <td>4</td>\n",
       "      <td>4</td>\n",
       "    </tr>\n",
       "  </tbody>\n",
       "</table>\n",
       "<p>5 rows × 56 columns</p>\n",
       "</div>"
      ],
      "text/plain": [
       "   MSSubClass  LotFrontage  LotArea  Street  LotShape  LandContour  LotConfig  \\\n",
       "0           0           57      777       1         3            3          4   \n",
       "1           0           58      964       1         0            3          0   \n",
       "2           5           51      947       1         0            3          4   \n",
       "3           5           55      587       1         0            3          4   \n",
       "4          11           19      118       1         0            1          4   \n",
       "\n",
       "   LandSlope  Neighborhood  Condition1      ...        WoodDeckSF  \\\n",
       "0          0            12           1      ...                75   \n",
       "1          0            12           2      ...               225   \n",
       "2          0             8           2      ...               134   \n",
       "3          0             8           2      ...               219   \n",
       "4          0            22           2      ...                 0   \n",
       "\n",
       "   OpenPorchSF  EnclosedPorch  3SsnPorch  ScreenPorch  PoolArea  MiscVal  \\\n",
       "0            0              0          0           18         0        0   \n",
       "1           24              0          0            0         0       24   \n",
       "2           22              0          0            0         0        0   \n",
       "3           24              0          0            0         0        0   \n",
       "4           68              0          0           27         0        0   \n",
       "\n",
       "   MoSold  YrSold  SaleCondition  \n",
       "0       5       4              4  \n",
       "1       5       4              4  \n",
       "2       2       4              4  \n",
       "3       5       4              4  \n",
       "4       0       4              4  \n",
       "\n",
       "[5 rows x 56 columns]"
      ]
     },
     "execution_count": 623,
     "metadata": {},
     "output_type": "execute_result"
    }
   ],
   "source": [
    "df1.head()"
   ]
  },
  {
   "cell_type": "code",
   "execution_count": 159,
   "metadata": {},
   "outputs": [],
   "source": [
    "result=pd.DataFrame()\n",
    "result['Id']=Ids\n",
    "result['SalePrice']=y_pred\n",
    "result.to_csv('Submission_Ankit_Srivastava.csv',index=False)"
   ]
  },
  {
   "cell_type": "code",
   "execution_count": 160,
   "metadata": {},
   "outputs": [],
   "source": [
    "result.to_csv('Submission_Ankit_Srivastava.csv',index=False)\n"
   ]
  },
  {
   "cell_type": "code",
   "execution_count": null,
   "metadata": {},
   "outputs": [],
   "source": []
  },
  {
   "cell_type": "code",
   "execution_count": 161,
   "metadata": {},
   "outputs": [
    {
     "data": {
      "text/html": [
       "<div>\n",
       "<style>\n",
       "    .dataframe thead tr:only-child th {\n",
       "        text-align: right;\n",
       "    }\n",
       "\n",
       "    .dataframe thead th {\n",
       "        text-align: left;\n",
       "    }\n",
       "\n",
       "    .dataframe tbody tr th {\n",
       "        vertical-align: top;\n",
       "    }\n",
       "</style>\n",
       "<table border=\"1\" class=\"dataframe\">\n",
       "  <thead>\n",
       "    <tr style=\"text-align: right;\">\n",
       "      <th></th>\n",
       "      <th>Id</th>\n",
       "      <th>SalePrice</th>\n",
       "    </tr>\n",
       "  </thead>\n",
       "  <tbody>\n",
       "    <tr>\n",
       "      <th>0</th>\n",
       "      <td>1461</td>\n",
       "      <td>100966.601562</td>\n",
       "    </tr>\n",
       "    <tr>\n",
       "      <th>1</th>\n",
       "      <td>1462</td>\n",
       "      <td>155054.156250</td>\n",
       "    </tr>\n",
       "    <tr>\n",
       "      <th>2</th>\n",
       "      <td>1463</td>\n",
       "      <td>171634.281250</td>\n",
       "    </tr>\n",
       "    <tr>\n",
       "      <th>3</th>\n",
       "      <td>1464</td>\n",
       "      <td>209101.781250</td>\n",
       "    </tr>\n",
       "    <tr>\n",
       "      <th>4</th>\n",
       "      <td>1465</td>\n",
       "      <td>182891.578125</td>\n",
       "    </tr>\n",
       "  </tbody>\n",
       "</table>\n",
       "</div>"
      ],
      "text/plain": [
       "     Id      SalePrice\n",
       "0  1461  100966.601562\n",
       "1  1462  155054.156250\n",
       "2  1463  171634.281250\n",
       "3  1464  209101.781250\n",
       "4  1465  182891.578125"
      ]
     },
     "execution_count": 161,
     "metadata": {},
     "output_type": "execute_result"
    }
   ],
   "source": [
    "dfr=pd.read_csv('Submission_Ankit_Srivastava.csv',)\n",
    "dfr.head()"
   ]
  }
 ],
 "metadata": {
  "kernelspec": {
   "display_name": "Python 3",
   "language": "python",
   "name": "python3"
  },
  "language_info": {
   "codemirror_mode": {
    "name": "ipython",
    "version": 3
   },
   "file_extension": ".py",
   "mimetype": "text/x-python",
   "name": "python",
   "nbconvert_exporter": "python",
   "pygments_lexer": "ipython3",
   "version": "3.6.4"
  }
 },
 "nbformat": 4,
 "nbformat_minor": 2
}
