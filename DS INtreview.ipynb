{
 "cells": [
  {
   "cell_type": "code",
   "execution_count": null,
   "metadata": {
    "collapsed": true
   },
   "outputs": [],
   "source": [
    "#Regression\n"
   ]
  },
  {
   "cell_type": "code",
   "execution_count": 1,
   "metadata": {},
   "outputs": [
    {
     "ename": "SyntaxError",
     "evalue": "invalid syntax (<ipython-input-1-a1aba17a80bf>, line 1)",
     "output_type": "error",
     "traceback": [
      "\u001b[1;36m  File \u001b[1;32m\"<ipython-input-1-a1aba17a80bf>\"\u001b[1;36m, line \u001b[1;32m1\u001b[0m\n\u001b[1;33m    B1 = Correlation * (Std. Dev. of y/ Std. Dev. of x)\u001b[0m\n\u001b[1;37m                                     ^\u001b[0m\n\u001b[1;31mSyntaxError\u001b[0m\u001b[1;31m:\u001b[0m invalid syntax\n"
     ]
    }
   ],
   "source": [
    "B1 = Correlation * (Std. Dev. of y/ Std. Dev. of x)\n",
    "\n",
    "B0 = Mean(Y) – B1 * Mean(X)\n",
    "R – Square (R2)\n",
    "\n",
    "#Performance\n",
    "Formula for calculating R2 is given by:(TSS-RSS)/TSS\n",
    "    \n",
    "Total Sum of Squares (TSS) : TSS is a measure of total variance in the response/ dependent variable Y \n",
    "and can be thought of as the amount of variability inherent in the response before the regression \n",
    "is performed.\n",
    "\n",
    "Residual Sum of Squares (RSS) : RSS measures the amount of variability that is left unexplained after \n",
    "performing the regression.\n",
    "\n",
    "RMSE tells the measure of dispersion of predicted values from actual values. \n",
    "The formula for calculating RMSE is [t/(p*N)]^2\n",
    "\n",
    "t= sum [(xi-mean(x)) * (yi-mean(y))]\n",
    "    \n",
    "p=std(x)*std(y)   \n"
   ]
  },
  {
   "cell_type": "code",
   "execution_count": null,
   "metadata": {
    "collapsed": true
   },
   "outputs": [],
   "source": [
    "\n",
    "\n",
    "\n",
    "\n"
   ]
  },
  {
   "cell_type": "code",
   "execution_count": null,
   "metadata": {
    "collapsed": true
   },
   "outputs": [],
   "source": [
    "#bias vs variance\n",
    "Predictive models have a tradeoff between bias (how well the model fits the data) \n",
    "and variance (how much the model changes based on changes in the inputs).\n",
    "\n"
   ]
  },
  {
   "cell_type": "code",
   "execution_count": null,
   "metadata": {
    "collapsed": true
   },
   "outputs": [],
   "source": [
    "#Why is naive Bayes so ‘naive’ ?\n",
    "\n",
    "Answer: naive Bayes is so ‘naive’ because it assumes that all of the features in a data set are \n",
    "    equally important and independent. As we know, these assumption are rarely true in real world \n",
    "    scenario.\n",
    "    "
   ]
  },
  {
   "cell_type": "code",
   "execution_count": null,
   "metadata": {
    "collapsed": true
   },
   "outputs": [],
   "source": [
    "#stochastic gradient descent (SGD) vs gradient descent (GD)?\n",
    "\n",
    "That means GD is preferable for small datasets while SGD is preferable for larger ones.\n",
    "\n",
    "In practice, however, SGD is used for most applications because it minimizes the error function well \n",
    "enough while being much faster and more memory efficient for large datasets.\n",
    "\n",
    "Both algorithms minimize or maximize a cost-function by iteratively adjusting \n",
    "the hypothesis function’sparameters, by multiplying the gradient ∇J by the learning rate η, and adding it to the parameter \n",
    "vector.\n",
    "\n",
    "The only (algorithmic) difference is that each algorithm optimizes a different cost-function.\n",
    "\n",
    "Gradient Descent’s cost-function iterates over ALL training samples:\n",
    "J(a,b)=1/n( ∑i=1 to n (yi,actual−yi,predicted)^2\n",
    "Stochastic Gradient Descent’s cost-function only accounts for ONE training sample, chosen at random:\n",
    "J(a,b)=(yi,actual−yi,predicted)^2\n",
    "           \n",
    "There are tradeoffs: Correctness (Gradient Descent) vs. Speed (Stochastic Gradient Descent)."
   ]
  },
  {
   "cell_type": "code",
   "execution_count": null,
   "metadata": {
    "collapsed": true
   },
   "outputs": [],
   "source": [
    "#dimension"
   ]
  },
  {
   "cell_type": "code",
   "execution_count": null,
   "metadata": {
    "collapsed": true
   },
   "outputs": [],
   "source": [
    "\n",
    "Feature selection is for filtering irrelevant or redundant features from your dataset.\n",
    "The key difference between feature selection and extraction is that feature selection keeps a subset\n",
    "of the original features while feature extraction creates brand new ones."
   ]
  },
  {
   "cell_type": "code",
   "execution_count": null,
   "metadata": {
    "collapsed": true
   },
   "outputs": [],
   "source": [
    "Feature selection:\n",
    "1.Variance Thresholds\n",
    "Variance thresholds remove features whose values don't change much from observation to observation\n",
    "(i.e. their variance falls below a threshold). These features provide little value.\n",
    "\n",
    "For example, if you had a public health dataset where 96% of observations were for 35-year-old men, \n",
    "then the 'Age' and 'Gender' features can be eliminated without a major loss in information.\n",
    "\n",
    "2. Correlation Thresholds\n",
    "Correlation thresholds remove features that are highly correlated with others \n",
    "(i.e. its values change very similarly to another's). These features provide redundant information."
   ]
  },
  {
   "cell_type": "code",
   "execution_count": null,
   "metadata": {
    "collapsed": true
   },
   "outputs": [],
   "source": [
    "Feature Extraction\n",
    "Feature extraction is for creating a new, smaller set of features that stills captures most of the \n",
    "useful information. Again, feature selection keeps a subset of the original features while feature \n",
    "extraction creates new ones."
   ]
  },
  {
   "cell_type": "code",
   "execution_count": null,
   "metadata": {
    "collapsed": true
   },
   "outputs": [],
   "source": [
    " Principal Component Analysis (PCA)\n",
    "\n",
    "1.Principal component analysis (PCA) is an unsupervised algorithm that creates linear combinations of\n",
    "the original features. The new features are orthogonal, which means that they are uncorrelated. \n",
    "Furthermore, they are ranked in order of their \"explained variance.\" The first principal component \n",
    "(PC1) explains the most variance in your dataset,\n",
    "PC2 explains the second-most variance, and so on.\n",
    "\n",
    "2.You should always normalize your dataset before performing PCA\n",
    "because the transformation is dependent on scale.\n",
    "If you don't, the features that are on the largest scale would dominate your new principal components."
   ]
  },
  {
   "cell_type": "code",
   "execution_count": null,
   "metadata": {
    "collapsed": true
   },
   "outputs": [],
   "source": [
    "\n",
    "Linear discriminant analysis (LDA) :\n",
    "\n",
    "also creates linear combinations of your original features. However, unlike PCA, \n",
    "LDA doesn't maximize explained variance. Instead, it maximizes the separability between classes.\n",
    "\n",
    "\n",
    "\n"
   ]
  },
  {
   "cell_type": "code",
   "execution_count": null,
   "metadata": {
    "collapsed": true
   },
   "outputs": [],
   "source": [
    "#What are the advantages and disadvantages of decision trees?\n",
    "Advantages: Decision trees are easy to interpret, nonparametric\n",
    "    (which means they are robust to outliers), \n",
    "    and there are relatively few parameters to tune.\n",
    "\n",
    "Disadvantages: Decision trees are prone to be overfit. \n",
    "    However, this can be addressed by ensemble methods like random forests or boosted trees."
   ]
  },
  {
   "cell_type": "code",
   "execution_count": null,
   "metadata": {
    "collapsed": true
   },
   "outputs": [],
   "source": [
    "#Overfitting in Machine Learning\n",
    "\n",
    "Overfitting refers to a model that models the training data too well.\n",
    "\n",
    "Overfitting happens when a model learns the detail and noise in the training data to the extent that \n",
    "it negatively impacts the performance of the model on new data. This means that the noise or random \n",
    "fluctuations in the training data is picked up and learned as concepts by the model.\n",
    "The problem is that these concepts do not apply to new data and negatively impact the models ability \n",
    "to generalize."
   ]
  },
  {
   "cell_type": "code",
   "execution_count": null,
   "metadata": {
    "collapsed": true
   },
   "outputs": [],
   "source": [
    "#What are the advantages and disadvantages of neural networks?\n",
    "Advantages: Neural networks (specifically deep NNs) \n",
    "    have led to performance breakthroughs for unstructured datasets such as images, audio, and video.\n",
    "    Their incredible flexibility allows them to learn patterns that no other ML algorithm can learn.\n",
    "\n",
    "Disadvantages: However, they require a large amount of training data to converge. \n",
    "    It's also difficult to pick the right architecture, and the internal \"hidden\" layers are \n",
    "    incomprehensible."
   ]
  },
  {
   "cell_type": "code",
   "execution_count": 1,
   "metadata": {},
   "outputs": [
    {
     "ename": "SyntaxError",
     "evalue": "invalid syntax (<ipython-input-1-b55aa1e50e44>, line 3)",
     "output_type": "error",
     "traceback": [
      "\u001b[1;36m  File \u001b[1;32m\"<ipython-input-1-b55aa1e50e44>\"\u001b[1;36m, line \u001b[1;32m3\u001b[0m\n\u001b[1;33m    If training set is small, high bias / low variance models (e.g. Naive Bayes) tend to perform better\u001b[0m\n\u001b[1;37m              ^\u001b[0m\n\u001b[1;31mSyntaxError\u001b[0m\u001b[1;31m:\u001b[0m invalid syntax\n"
     ]
    }
   ],
   "source": [
    "#How can you choose a classifier based on training set size?\n",
    "\n",
    "If training set is small, high bias / low variance models (e.g. Naive Bayes) tend to perform better \n",
    "because they are less likely to be overfit.\n",
    "\n",
    "If training set is large, low bias / high variance models (e.g. Logistic Regression) tend to perform \n",
    "better because they can reflect more complex relationships.\n",
    "\n",
    "Decision Trees are fast to train and easy to evaluate and interrupt.\n",
    "\n",
    "Support vector machine gives good accuracy, power of flexibility from kernels.\n",
    "\n",
    "Neural network are slow to converge and hard to set parameters but if done with care it work wells\n",
    "\n",
    "Bayesian classifiers  are easy to understand.   \n"
   ]
  },
  {
   "cell_type": "markdown",
   "metadata": {},
   "source": [
    "Q8- Explain the difference between L1 and L2 regularization.\n",
    "\n",
    "More reading: What is the difference between L1 and L2 regularization? (Quora)\n",
    "\n",
    "L2 regularization tends to spread error among all the terms, while L1 is more binary/sparse, with many variables either being assigned a 1 or 0 in weighting. L1 corresponds to setting a Laplacean prior on the terms, while L2 corresponds to a Gaussian prior.\n",
    "https://towardsdatascience.com/l1-and-l2-regularization-methods-ce25e7fc831c\n"
   ]
  },
  {
   "attachments": {
    "image.png": {
     "image/png": "[encoded data removed]"
    }
   },
   "cell_type": "markdown",
   "metadata": {},
   "source": [
    "![image.png](attachment:image.png)"
   ]
  },
  {
   "cell_type": "markdown",
   "metadata": {},
   "source": [
    "A Fourier transform is a generic method to decompose generic functions into a superposition of symmetric functions. Or as this more intuitive tutorial puts it, given a smoothie, it’s how we find the recipe. The Fourier transform finds the set of cycle speeds, amplitudes and phases to match any time signal. A Fourier transform converts a signal from time to frequency domain — it’s a very common way to extract features from audio signals or other time series such as sensor data."
   ]
  },
  {
   "cell_type": "markdown",
   "metadata": {},
   "source": [
    "Q22- How do you ensure you’re not overfitting with a model?\n",
    "\n",
    "More reading: How can I avoid overfitting? (Quora)\n",
    "\n",
    "This is a simple restatement of a fundamental problem in machine learning: the possibility of overfitting training data and carrying the noise of that data through to the test set, thereby providing inaccurate generalizations.\n",
    "\n",
    "There are three main methods to avoid overfitting:\n",
    "\n",
    "1- Keep the model simpler: reduce variance by taking into account fewer variables and parameters, thereby removing some of the noise in the training data.\n",
    "\n",
    "2- Use cross-validation techniques such as k-folds cross-validation.\n",
    "\n",
    "3- Use regularization techniques such as LASSO that penalize certain model parameters if they’re likely to cause overfitting."
   ]
  },
  {
   "cell_type": "markdown",
   "metadata": {
    "collapsed": true
   },
   "source": [
    "https://www.springboard.com/blog/machine-learning-interview-questions/"
   ]
  },
  {
   "cell_type": "markdown",
   "metadata": {
    "collapsed": true
   },
   "source": [
    "# corelation between continous and categorial variable"
   ]
  },
  {
   "cell_type": "markdown",
   "metadata": {
    "collapsed": true
   },
   "source": [
    "https://www.datascience.com/learn-data-science/fundamentals/introduction-to-correlation-python-data-science"
   ]
  }
 ],
 "metadata": {
  "kernelspec": {
   "display_name": "Python 3",
   "language": "python",
   "name": "python3"
  },
  "language_info": {
   "codemirror_mode": {
    "name": "ipython",
    "version": 3
   },
   "file_extension": ".py",
   "mimetype": "text/x-python",
   "name": "python",
   "nbconvert_exporter": "python",
   "pygments_lexer": "ipython3",
   "version": "3.6.4"
  }
 },
 "nbformat": 4,
 "nbformat_minor": 2
}
