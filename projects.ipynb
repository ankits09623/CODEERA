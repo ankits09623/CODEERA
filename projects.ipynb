{
 "cells": [
  {
   "cell_type": "markdown",
   "metadata": {},
   "source": [
    "# trade bitcoin PREDICTION "
   ]
  },
  {
   "cell_type": "markdown",
   "metadata": {},
   "source": [
    "import pandas as pd"
   ]
  },
  {
   "cell_type": "code",
   "execution_count": 183,
   "metadata": {
    "collapsed": true
   },
   "outputs": [],
   "source": [
    "df=pd.read_csv('C:\\\\Users\\\\Dell-pc\\\\Desktop\\\\Data science ML DL python\\\\comp projects\\\\Task_Resource_BTC_Data.csv')"
   ]
  },
  {
   "cell_type": "markdown",
   "metadata": {},
   "source": [
    "# prediction task 1 and task 3 (accuracy)"
   ]
  },
  {
   "cell_type": "code",
   "execution_count": 201,
   "metadata": {},
   "outputs": [
    {
     "data": {
      "text/html": [
       "<div>\n",
       "<style>\n",
       "    .dataframe thead tr:only-child th {\n",
       "        text-align: right;\n",
       "    }\n",
       "\n",
       "    .dataframe thead th {\n",
       "        text-align: left;\n",
       "    }\n",
       "\n",
       "    .dataframe tbody tr th {\n",
       "        vertical-align: top;\n",
       "    }\n",
       "</style>\n",
       "<table border=\"1\" class=\"dataframe\">\n",
       "  <thead>\n",
       "    <tr style=\"text-align: right;\">\n",
       "      <th></th>\n",
       "      <th>Date</th>\n",
       "      <th>Open</th>\n",
       "      <th>High</th>\n",
       "      <th>Low</th>\n",
       "      <th>Close</th>\n",
       "    </tr>\n",
       "  </thead>\n",
       "  <tbody>\n",
       "    <tr>\n",
       "      <th>0</th>\n",
       "      <td>2017-08-31</td>\n",
       "      <td>4567.9</td>\n",
       "      <td>4749.9</td>\n",
       "      <td>4567.9</td>\n",
       "      <td>4718.2</td>\n",
       "    </tr>\n",
       "    <tr>\n",
       "      <th>1</th>\n",
       "      <td>2017-08-30</td>\n",
       "      <td>4586.6</td>\n",
       "      <td>4641.1</td>\n",
       "      <td>4481.1</td>\n",
       "      <td>4569.0</td>\n",
       "    </tr>\n",
       "    <tr>\n",
       "      <th>2</th>\n",
       "      <td>2017-08-29</td>\n",
       "      <td>4385.1</td>\n",
       "      <td>4644.2</td>\n",
       "      <td>4336.7</td>\n",
       "      <td>4587.1</td>\n",
       "    </tr>\n",
       "    <tr>\n",
       "      <th>3</th>\n",
       "      <td>2017-08-28</td>\n",
       "      <td>4330.7</td>\n",
       "      <td>4395.2</td>\n",
       "      <td>4175.7</td>\n",
       "      <td>4383.8</td>\n",
       "    </tr>\n",
       "    <tr>\n",
       "      <th>4</th>\n",
       "      <td>2017-08-27</td>\n",
       "      <td>4340.2</td>\n",
       "      <td>4405.7</td>\n",
       "      <td>4305.0</td>\n",
       "      <td>4331.8</td>\n",
       "    </tr>\n",
       "  </tbody>\n",
       "</table>\n",
       "</div>"
      ],
      "text/plain": [
       "         Date    Open    High     Low   Close\n",
       "0  2017-08-31  4567.9  4749.9  4567.9  4718.2\n",
       "1  2017-08-30  4586.6  4641.1  4481.1  4569.0\n",
       "2  2017-08-29  4385.1  4644.2  4336.7  4587.1\n",
       "3  2017-08-28  4330.7  4395.2  4175.7  4383.8\n",
       "4  2017-08-27  4340.2  4405.7  4305.0  4331.8"
      ]
     },
     "execution_count": 201,
     "metadata": {},
     "output_type": "execute_result"
    }
   ],
   "source": [
    "df1=pd.read_csv('C:\\\\Users\\\\Dell-pc\\\\Desktop\\\\Data science ML DL python\\\\comp projects\\\\Task_Resource_BTC_Data.csv')\n",
    "df1.head()"
   ]
  },
  {
   "cell_type": "code",
   "execution_count": 185,
   "metadata": {},
   "outputs": [
    {
     "data": {
      "text/html": [
       "<div>\n",
       "<style>\n",
       "    .dataframe thead tr:only-child th {\n",
       "        text-align: right;\n",
       "    }\n",
       "\n",
       "    .dataframe thead th {\n",
       "        text-align: left;\n",
       "    }\n",
       "\n",
       "    .dataframe tbody tr th {\n",
       "        vertical-align: top;\n",
       "    }\n",
       "</style>\n",
       "<table border=\"1\" class=\"dataframe\">\n",
       "  <thead>\n",
       "    <tr style=\"text-align: right;\">\n",
       "      <th></th>\n",
       "      <th>Date</th>\n",
       "      <th>Open</th>\n",
       "      <th>High</th>\n",
       "      <th>Low</th>\n",
       "      <th>Close</th>\n",
       "      <th>Price</th>\n",
       "    </tr>\n",
       "  </thead>\n",
       "  <tbody>\n",
       "    <tr>\n",
       "      <th>0</th>\n",
       "      <td>2017-08-31</td>\n",
       "      <td>4567.9</td>\n",
       "      <td>4749.9</td>\n",
       "      <td>4567.9</td>\n",
       "      <td>4718.2</td>\n",
       "      <td>4678.666667</td>\n",
       "    </tr>\n",
       "    <tr>\n",
       "      <th>1</th>\n",
       "      <td>2017-08-30</td>\n",
       "      <td>4586.6</td>\n",
       "      <td>4641.1</td>\n",
       "      <td>4481.1</td>\n",
       "      <td>4569.0</td>\n",
       "      <td>4563.733333</td>\n",
       "    </tr>\n",
       "    <tr>\n",
       "      <th>2</th>\n",
       "      <td>2017-08-29</td>\n",
       "      <td>4385.1</td>\n",
       "      <td>4644.2</td>\n",
       "      <td>4336.7</td>\n",
       "      <td>4587.1</td>\n",
       "      <td>4522.666667</td>\n",
       "    </tr>\n",
       "    <tr>\n",
       "      <th>3</th>\n",
       "      <td>2017-08-28</td>\n",
       "      <td>4330.7</td>\n",
       "      <td>4395.2</td>\n",
       "      <td>4175.7</td>\n",
       "      <td>4383.8</td>\n",
       "      <td>4318.233333</td>\n",
       "    </tr>\n",
       "    <tr>\n",
       "      <th>4</th>\n",
       "      <td>2017-08-27</td>\n",
       "      <td>4340.2</td>\n",
       "      <td>4405.7</td>\n",
       "      <td>4305.0</td>\n",
       "      <td>4331.8</td>\n",
       "      <td>4347.500000</td>\n",
       "    </tr>\n",
       "  </tbody>\n",
       "</table>\n",
       "</div>"
      ],
      "text/plain": [
       "         Date    Open    High     Low   Close        Price\n",
       "0  2017-08-31  4567.9  4749.9  4567.9  4718.2  4678.666667\n",
       "1  2017-08-30  4586.6  4641.1  4481.1  4569.0  4563.733333\n",
       "2  2017-08-29  4385.1  4644.2  4336.7  4587.1  4522.666667\n",
       "3  2017-08-28  4330.7  4395.2  4175.7  4383.8  4318.233333\n",
       "4  2017-08-27  4340.2  4405.7  4305.0  4331.8  4347.500000"
      ]
     },
     "execution_count": 185,
     "metadata": {},
     "output_type": "execute_result"
    }
   ],
   "source": [
    "df1['Price']=tp=(df1['High']+df1['Low']+df1['Close'])/3  \n",
    "df1.head()"
   ]
  },
  {
   "cell_type": "code",
   "execution_count": 186,
   "metadata": {
    "collapsed": true
   },
   "outputs": [],
   "source": [
    "#Data treatment (Missing value and outlier fixing)\n",
    "df1=df1.fillna(df1.mean()).dropna(axis=0, how='all')"
   ]
  },
  {
   "cell_type": "code",
   "execution_count": 187,
   "metadata": {
    "collapsed": true
   },
   "outputs": [],
   "source": [
    "del df1['Date']\n",
    "Y=df1['Price']\n",
    "X=df1.loc[0:, df1.columns != 'Price']"
   ]
  },
  {
   "cell_type": "code",
   "execution_count": 188,
   "metadata": {
    "collapsed": true
   },
   "outputs": [],
   "source": [
    "from sklearn.preprocessing import Normalizer\n",
    "scaler = Normalizer().fit(X)\n",
    "NX = scaler.transform(X)"
   ]
  },
  {
   "cell_type": "code",
   "execution_count": 189,
   "metadata": {
    "collapsed": true
   },
   "outputs": [],
   "source": [
    "#Decision Tree Regression\n",
    ">>> from sklearn import tree\n",
    "\n",
    ">>> clf = tree.DecisionTreeRegressor()\n",
    ">>> clf = clf.fit(NX, Y)\n",
    ">>> PredictedPrice=clf.predict(NX)\n"
   ]
  },
  {
   "cell_type": "code",
   "execution_count": 190,
   "metadata": {},
   "outputs": [
    {
     "data": {
      "text/plain": [
       "100.0"
      ]
     },
     "execution_count": 190,
     "metadata": {},
     "output_type": "execute_result"
    }
   ],
   "source": [
    "expected=Y\n",
    "accuracy=(1-sum(abs(PredictedPrice-expected)/expected)/len(Y))*100\n",
    "accuracy"
   ]
  },
  {
   "cell_type": "markdown",
   "metadata": {},
   "source": [
    "# Moving Average # ENTRY EXIT Task 2"
   ]
  },
  {
   "cell_type": "code",
   "execution_count": 202,
   "metadata": {
    "collapsed": true
   },
   "outputs": [],
   "source": [
    "df=pd.read_csv('C:\\\\Users\\\\Dell-pc\\\\Desktop\\\\Data science ML DL python\\\\comp projects\\\\Task_Resource_BTC_Data.csv')\n",
    "import numpy as np\n",
    "\n",
    "\n",
    "def calcSma(data, smaPeriod):\n",
    "    j = next(i for i, x in enumerate(data) if x is not None)\n",
    "    our_range = range(len(data))[j + smaPeriod - 1:]\n",
    "    empty_list = [None] * (j + smaPeriod - 1)\n",
    "    sub_result = [np.mean(data[i - smaPeriod + 1: i + 1]) for i in our_range]\n",
    "\n",
    "    return np.array(empty_list + sub_result)"
   ]
  },
  {
   "cell_type": "code",
   "execution_count": 203,
   "metadata": {
    "collapsed": true
   },
   "outputs": [],
   "source": [
    "data=Y\n",
    "sma45 = calcSma(data=data, smaPeriod=45)\n",
    "sma15 = calcSma(data=sma45, smaPeriod=15)"
   ]
  },
  {
   "cell_type": "code",
   "execution_count": 204,
   "metadata": {
    "collapsed": true
   },
   "outputs": [],
   "source": [
    "df['sma_15']=sma15\n",
    "df['sma_45']=sma45"
   ]
  },
  {
   "cell_type": "code",
   "execution_count": 205,
   "metadata": {
    "collapsed": true
   },
   "outputs": [],
   "source": [
    "df=df.dropna(axis=0, how='any')"
   ]
  },
  {
   "cell_type": "code",
   "execution_count": 206,
   "metadata": {},
   "outputs": [
    {
     "data": {
      "text/html": [
       "<div>\n",
       "<style>\n",
       "    .dataframe thead tr:only-child th {\n",
       "        text-align: right;\n",
       "    }\n",
       "\n",
       "    .dataframe thead th {\n",
       "        text-align: left;\n",
       "    }\n",
       "\n",
       "    .dataframe tbody tr th {\n",
       "        vertical-align: top;\n",
       "    }\n",
       "</style>\n",
       "<table border=\"1\" class=\"dataframe\">\n",
       "  <thead>\n",
       "    <tr style=\"text-align: right;\">\n",
       "      <th></th>\n",
       "      <th>Date</th>\n",
       "      <th>Open</th>\n",
       "      <th>High</th>\n",
       "      <th>Low</th>\n",
       "      <th>Close</th>\n",
       "      <th>sma_15</th>\n",
       "      <th>sma_45</th>\n",
       "    </tr>\n",
       "  </thead>\n",
       "  <tbody>\n",
       "    <tr>\n",
       "      <th>58</th>\n",
       "      <td>2017-07-04</td>\n",
       "      <td>2525.9</td>\n",
       "      <td>2628.0</td>\n",
       "      <td>2512.4</td>\n",
       "      <td>2582.6</td>\n",
       "      <td>3136.45</td>\n",
       "      <td>2868.41</td>\n",
       "    </tr>\n",
       "    <tr>\n",
       "      <th>59</th>\n",
       "      <td>2017-07-03</td>\n",
       "      <td>2445.1</td>\n",
       "      <td>2584.0</td>\n",
       "      <td>2416.2</td>\n",
       "      <td>2524.0</td>\n",
       "      <td>3093.91</td>\n",
       "      <td>2828.39</td>\n",
       "    </tr>\n",
       "    <tr>\n",
       "      <th>60</th>\n",
       "      <td>2017-07-02</td>\n",
       "      <td>2346.2</td>\n",
       "      <td>2470.0</td>\n",
       "      <td>2302.0</td>\n",
       "      <td>2445.0</td>\n",
       "      <td>3052.44</td>\n",
       "      <td>2787.64</td>\n",
       "    </tr>\n",
       "    <tr>\n",
       "      <th>61</th>\n",
       "      <td>2017-07-01</td>\n",
       "      <td>2420.6</td>\n",
       "      <td>2440.9</td>\n",
       "      <td>2291.0</td>\n",
       "      <td>2349.5</td>\n",
       "      <td>3012.22</td>\n",
       "      <td>2748.06</td>\n",
       "    </tr>\n",
       "    <tr>\n",
       "      <th>62</th>\n",
       "      <td>2017-06-30</td>\n",
       "      <td>2472.4</td>\n",
       "      <td>2511.1</td>\n",
       "      <td>2406.6</td>\n",
       "      <td>2420.7</td>\n",
       "      <td>2973.05</td>\n",
       "      <td>2708.95</td>\n",
       "    </tr>\n",
       "  </tbody>\n",
       "</table>\n",
       "</div>"
      ],
      "text/plain": [
       "          Date    Open    High     Low   Close   sma_15   sma_45\n",
       "58  2017-07-04  2525.9  2628.0  2512.4  2582.6  3136.45  2868.41\n",
       "59  2017-07-03  2445.1  2584.0  2416.2  2524.0  3093.91  2828.39\n",
       "60  2017-07-02  2346.2  2470.0  2302.0  2445.0  3052.44  2787.64\n",
       "61  2017-07-01  2420.6  2440.9  2291.0  2349.5  3012.22  2748.06\n",
       "62  2017-06-30  2472.4  2511.1  2406.6  2420.7  2973.05  2708.95"
      ]
     },
     "execution_count": 206,
     "metadata": {},
     "output_type": "execute_result"
    }
   ],
   "source": [
    "df.head()"
   ]
  },
  {
   "cell_type": "code",
   "execution_count": 207,
   "metadata": {},
   "outputs": [
    {
     "name": "stdout",
     "output_type": "stream",
     "text": [
      "88    2017-06-04\n",
      "96    2017-05-27\n",
      "Name: Date, dtype: object\n"
     ]
    }
   ],
   "source": [
    "import pandas as pd\n",
    "\n",
    "\n",
    "previous_15 = df['sma_15'].shift(1)\n",
    "previous_45 = df['sma_45'].shift(1)\n",
    "crossing = (((df['sma_15'] <= df['sma_45']) & (previous_15 >= previous_45))\n",
    "            | ((df['sma_15'] >= df['sma_45']) & (previous_15 <= previous_45)))\n",
    "crossing_dates = df.loc[crossing, 'Date']\n",
    "print(crossing_dates)"
   ]
  },
  {
   "cell_type": "code",
   "execution_count": null,
   "metadata": {
    "collapsed": true
   },
   "outputs": [],
   "source": [
    "The first crossover of the quickest SMA (in the example above, the 15-day SMA) across the next quickest SMA (45-day SMA) \n",
    "acts as a warning that prices might be reversing trend; however, \n",
    "usually a trader would not place an actual buy or sell order then\n",
    "\n",
    "Thereafter, \n",
    "the second crossover of the quickest SMA (15-day) and the slowest SMA (45-day), might trigger a trader to buy or sell."
   ]
  },
  {
   "cell_type": "markdown",
   "metadata": {},
   "source": []
  },
  {
   "cell_type": "code",
   "execution_count": null,
   "metadata": {
    "collapsed": true
   },
   "outputs": [],
   "source": []
  },
  {
   "cell_type": "code",
   "execution_count": 109,
   "metadata": {},
   "outputs": [
    {
     "data": {
      "text/plain": [
       "[6]"
      ]
     },
     "execution_count": 109,
     "metadata": {},
     "output_type": "execute_result"
    }
   ],
   "source": []
  }
 ],
 "metadata": {
  "kernelspec": {
   "display_name": "Python 3",
   "language": "python",
   "name": "python3"
  },
  "language_info": {
   "codemirror_mode": {
    "name": "ipython",
    "version": 3
   },
   "file_extension": ".py",
   "mimetype": "text/x-python",
   "name": "python",
   "nbconvert_exporter": "python",
   "pygments_lexer": "ipython3",
   "version": "3.6.1"
  }
 },
 "nbformat": 4,
 "nbformat_minor": 2
}
